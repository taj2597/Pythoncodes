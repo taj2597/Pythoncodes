{
  "nbformat": 4,
  "nbformat_minor": 0,
  "metadata": {
    "colab": {
      "provenance": [],
      "authorship_tag": "ABX9TyMWuYY0q46Mya3wK677EMcB",
      "include_colab_link": true
    },
    "kernelspec": {
      "name": "python3",
      "display_name": "Python 3"
    },
    "language_info": {
      "name": "python"
    }
  },
  "cells": [
    {
      "cell_type": "markdown",
      "metadata": {
        "id": "view-in-github",
        "colab_type": "text"
      },
      "source": [
        "<a href=\"https://colab.research.google.com/github/taj2597/python/blob/main/Calculator.ipynb\" target=\"_parent\"><img src=\"https://colab.research.google.com/assets/colab-badge.svg\" alt=\"Open In Colab\"/></a>"
      ]
    },
    {
      "cell_type": "code",
      "execution_count": 1,
      "metadata": {
        "id": "OnN5eUDE7I2X",
        "colab": {
          "base_uri": "https://localhost:8080/"
        },
        "outputId": "bf6a3054-37f7-417f-9718-c5bc3ca1fefa"
      },
      "outputs": [
        {
          "output_type": "stream",
          "name": "stdout",
          "text": [
            "Welcome to the Calculator!\n",
            "\n",
            "Please select an operation:\n",
            "1. Add\n",
            "2. Subtract\n",
            "3. Multiply\n",
            "4. Divide\n",
            "5. Exit\n",
            "Enter your choice (1-5): 3\n",
            "Enter the first number: 56\n",
            "Enter the second number: 56\n",
            "Result: 3136.0\n",
            "\n",
            "Please select an operation:\n",
            "1. Add\n",
            "2. Subtract\n",
            "3. Multiply\n",
            "4. Divide\n",
            "5. Exit\n",
            "Enter your choice (1-5): 5\n",
            "Thank you for using the calculator. Goodbye!\n"
          ]
        }
      ],
      "source": [
        "def add(x, y):\n",
        "    return x + y\n",
        "\n",
        "def subtract(x, y):\n",
        "    return x - y\n",
        "\n",
        "def multiply(x, y):\n",
        "    return x * y\n",
        "\n",
        "def divide(x, y):\n",
        "    if y != 0:\n",
        "        return x / y\n",
        "    else:\n",
        "        return \"Error: Cannot divide by zero.\"\n",
        "\n",
        "print(\"Welcome to the Calculator!\")\n",
        "\n",
        "while True:\n",
        "    print(\"\\nPlease select an operation:\")\n",
        "    print(\"1. Add\")\n",
        "    print(\"2. Subtract\")\n",
        "    print(\"3. Multiply\")\n",
        "    print(\"4. Divide\")\n",
        "    print(\"5. Exit\")\n",
        "\n",
        "    choice = input(\"Enter your choice (1-5): \")\n",
        "\n",
        "    if choice == '5':\n",
        "        print(\"Thank you for using the calculator. Goodbye!\")\n",
        "        break\n",
        "\n",
        "    num1 = float(input(\"Enter the first number: \"))\n",
        "    num2 = float(input(\"Enter the second number: \"))\n",
        "\n",
        "    if choice == '1':\n",
        "        print(\"Result:\", add(num1, num2))\n",
        "    elif choice == '2':\n",
        "        print(\"Result:\", subtract(num1, num2))\n",
        "    elif choice == '3':\n",
        "        print(\"Result:\", multiply(num1, num2))\n",
        "    elif choice == '4':\n",
        "        print(\"Result:\", divide(num1, num2))\n",
        "    else:\n",
        "        print(\"Invalid input. Please try again.\")\n"
      ]
    }
  ]
}