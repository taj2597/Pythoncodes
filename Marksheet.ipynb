{
  "nbformat": 4,
  "nbformat_minor": 0,
  "metadata": {
    "colab": {
      "provenance": [],
      "authorship_tag": "ABX9TyOefY93Z2tKfSFXWEJl4HEy",
      "include_colab_link": true
    },
    "kernelspec": {
      "name": "python3",
      "display_name": "Python 3"
    },
    "language_info": {
      "name": "python"
    }
  },
  "cells": [
    {
      "cell_type": "markdown",
      "metadata": {
        "id": "view-in-github",
        "colab_type": "text"
      },
      "source": [
        "<a href=\"https://colab.research.google.com/github/taj2597/python/blob/main/Marksheet.ipynb\" target=\"_parent\"><img src=\"https://colab.research.google.com/assets/colab-badge.svg\" alt=\"Open In Colab\"/></a>"
      ]
    },
    {
      "cell_type": "code",
      "execution_count": 24,
      "metadata": {
        "colab": {
          "base_uri": "https://localhost:8080/"
        },
        "id": "P_Aki7Pl_qFt",
        "outputId": "97f1b8bf-7e07-4607-cb7f-d5f5d3aa0225"
      },
      "outputs": [
        {
          "output_type": "stream",
          "name": "stdout",
          "text": [
            "TN SSLC Marksheet \n",
            "\n",
            "Enter Your name:Taj\n",
            "Enter Your Register Number:234566\n",
            "Enter your English Mark:98\n",
            "Enter your Tamil Mark:99\n",
            "Enter your Maths Mark:97\n",
            "Enter your Science Mark:90\n",
            "Enter your Social Science Mark:99\n",
            "Congratulations ! You Secured \"A1\" Grade\n",
            "\n",
            "Your total marks in SSLC is: 483\n",
            "Your Percentage in SSLC is: 97 %\n"
          ]
        }
      ],
      "source": [
        "print(\"TN SSLC Marksheet \\n\")\n",
        "name=str(input(\"Enter Your name:\"))\n",
        "id=int(input(\"Enter Your Register Number:\"))\n",
        "e=int(input(\"Enter your English Mark:\"))\n",
        "t=int(input(\"Enter your Tamil Mark:\"))\n",
        "m=int(input(\"Enter your Maths Mark:\"))\n",
        "s=int(input(\"Enter your Science Mark:\"))\n",
        "ss=int(input(\"Enter your Social Science Mark:\"))\n",
        "total=(e+t+m+s+ss)\n",
        "perct=(total/500)*100\n",
        "perct=round(perct)\n",
        "if (e>=35) and (t>=35) and (m>=35) and (s>=35) and (ss>=35):\n",
        "  if (e==35) and (t==35) and (m==35) and (s==35) and (ss==35):\n",
        "    print('You are just passed in all subjects and you secured \"D\" Grade')\n",
        "  elif perct >=91 and perct <=100:\n",
        "    print('Congratulations ! You Secured \"A1\" Grade')\n",
        "  elif (perct >=81) and (perct <=90):\n",
        "    print('Congratulations ! You Secured \"A2\" Grade')\n",
        "  elif (perct >=71) and (perct <=80):\n",
        "    print('Congratulations ! You Secured \"B1\" Grade')\n",
        "  elif (perct >=61) and (perct <=70):\n",
        "    print('Congratulations ! You Secured \"B2\" Grade')\n",
        "  elif (perct >=51) and (perct <=60):\n",
        "    print('Congratulations ! You Secured \"C1\" Grade')\n",
        "  elif (perct >=41) and (perct <=50):\n",
        "    print('Congratulations ! You Secured \"C2\" Grade')\n",
        "  elif (perct >=35) and (perct <=40):\n",
        "    print('Congratulations ! You Secured \"D\" Grade')\n",
        "  else:\n",
        "    print('Sorry, You failed' )\n",
        "else:\n",
        " print('Sorry, REAPPEAR' )\n",
        "\n",
        "print(\"\\nYour total marks in SSLC is:\",total)\n",
        "print(\"Your Percentage in SSLC is:\",perct,\"%\")"
      ]
    },
    {
      "cell_type": "code",
      "source": [],
      "metadata": {
        "id": "SY-mzhqoAaqz"
      },
      "execution_count": null,
      "outputs": []
    }
  ]
}