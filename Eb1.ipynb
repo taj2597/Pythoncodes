{
  "nbformat": 4,
  "nbformat_minor": 0,
  "metadata": {
    "colab": {
      "provenance": [],
      "authorship_tag": "ABX9TyPyiKMRICfZ5H1pozYc6Bhl",
      "include_colab_link": true
    },
    "kernelspec": {
      "name": "python3",
      "display_name": "Python 3"
    },
    "language_info": {
      "name": "python"
    }
  },
  "cells": [
    {
      "cell_type": "markdown",
      "metadata": {
        "id": "view-in-github",
        "colab_type": "text"
      },
      "source": [
        "<a href=\"https://colab.research.google.com/github/taj2597/Pythoncodes/blob/main/Eb1.ipynb\" target=\"_parent\"><img src=\"https://colab.research.google.com/assets/colab-badge.svg\" alt=\"Open In Colab\"/></a>"
      ]
    },
    {
      "cell_type": "code",
      "source": [
        "print('Tneb Electricity Bill\\n')\n",
        "Cus_name=str (input('Enter your Name:'))\n",
        "Cus_id=(input('Enter your Id:'))\n",
        "Total_unit=float (input ('Enter unit usage:'))\n",
        "per_unit=5\n",
        "Amt=Total_unit*per_unit\n",
        "print('Amount to be paid:',Amt)\n",
        "if (Amt<=500):\n",
        " print ('Congratulations your a *Silver user*')\n",
        "elif(Amt>500)and (Amt<=2500):\n",
        " print ('Congratulations your a *Gold user*')\n",
        "elif(Amt>2500)and (Amt<=5000):\n",
        " print ('Congratulations your a *Diamond user*')\n",
        "else:\n",
        " print ('Congratulations your a *platinum user*')"
      ],
      "metadata": {
        "id": "3U9jkHJxfFjJ",
        "colab": {
          "base_uri": "https://localhost:8080/"
        },
        "outputId": "516dd652-3519-4e06-a5b9-a621e3b3bbc5"
      },
      "execution_count": 1,
      "outputs": [
        {
          "output_type": "stream",
          "name": "stdout",
          "text": [
            "Tneb Electricity Bill\n",
            "\n",
            "Enter your Name:hgfhfj\n",
            "Enter your Id:5645647\n",
            "Enter unit usage:567\n",
            "Amount to be paid: 2835.0\n",
            "Congratulations your a *Diamond user*\n"
          ]
        }
      ]
    },
    {
      "cell_type": "code",
      "source": [],
      "metadata": {
        "id": "VEZXyHU6c78u"
      },
      "execution_count": null,
      "outputs": []
    },
    {
      "cell_type": "code",
      "source": [],
      "metadata": {
        "id": "DqeMlthdwov0"
      },
      "execution_count": null,
      "outputs": []
    },
    {
      "cell_type": "code",
      "source": [],
      "metadata": {
        "id": "Cl57jmjMwsKB"
      },
      "execution_count": null,
      "outputs": []
    }
  ]
}